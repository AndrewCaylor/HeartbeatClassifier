{
 "cells": [
  {
   "cell_type": "code",
   "execution_count": 27,
   "metadata": {},
   "outputs": [],
   "source": [
    "from tflite_runtime.interpreter import Interpreter \n",
    "\n",
    "interpreter = Interpreter(\"converted_model.tflite\")\n",
    "\n",
    "interpreter.allocate_tensors()\n",
    "\n",
    "\n",
    "\n",
    "# load row of data \n",
    "data = open(\"./dataset/archive/mitbih_test.csv\")\n",
    "\n",
    "# get first row\n",
    "row = data.readline()\n",
    "\n",
    "line = row.split(\",\")\n",
    "\n",
    "\n"
   ]
  },
  {
   "cell_type": "code",
   "execution_count": 48,
   "metadata": {},
   "outputs": [],
   "source": [
    "import copy\n",
    "\n",
    "\n",
    "def pred1D(interpreter, arr, top_k=1):\n",
    "  tensor_index = interpreter.get_input_details()[0]['index']\n",
    "  output_details = interpreter.get_output_details()\n",
    "  \n",
    "  print(interpreter.get_input_details())\n",
    "\n",
    "  # get a copy of the input tensor\n",
    "  input_tensor = copy.copy(interpreter.tensor(tensor_index)()[0])\n",
    "  print(input_tensor.shape)\n",
    "\n",
    "  \n",
    "  for i in range(0, len(arr)):\n",
    "    input_tensor[i,0] = arr[i]\n",
    "    \n",
    "  interpreter.set_tensor(tensor_index, [input_tensor])\n",
    "\n",
    "  interpreter.invoke()\n",
    "\n",
    "  print(output_details)\n",
    "\n",
    "  out = interpreter.get_tensor(output_details[0]['index'])\n",
    "\n",
    "  print(\"OUT\", out)\n",
    "  return output_details"
   ]
  },
  {
   "cell_type": "code",
   "execution_count": 52,
   "metadata": {},
   "outputs": [
    {
     "name": "stdout",
     "output_type": "stream",
     "text": [
      "[{'name': 'serving_default_input_4:0', 'index': 0, 'shape': array([  1, 186,   1], dtype=int32), 'shape_signature': array([ -1, 186,   1], dtype=int32), 'dtype': <class 'numpy.float32'>, 'quantization': (0.0, 0), 'quantization_parameters': {'scales': array([], dtype=float32), 'zero_points': array([], dtype=int32), 'quantized_dimension': 0}, 'sparsity_parameters': {}}]\n",
      "(186, 1)\n",
      "[{'name': 'StatefulPartitionedCall:0', 'index': 170, 'shape': array([1, 5], dtype=int32), 'shape_signature': array([-1,  5], dtype=int32), 'dtype': <class 'numpy.float32'>, 'quantization': (0.0, 0), 'quantization_parameters': {'scales': array([], dtype=float32), 'zero_points': array([], dtype=int32), 'quantized_dimension': 0}, 'sparsity_parameters': {}}]\n",
      "OUT [[9.1102070e-01 5.5972498e-05 2.0156531e-05 2.7353741e-05 1.6440896e-07]]\n"
     ]
    },
    {
     "data": {
      "text/plain": [
       "[{'name': 'StatefulPartitionedCall:0',\n",
       "  'index': 170,\n",
       "  'shape': array([1, 5], dtype=int32),\n",
       "  'shape_signature': array([-1,  5], dtype=int32),\n",
       "  'dtype': numpy.float32,\n",
       "  'quantization': (0.0, 0),\n",
       "  'quantization_parameters': {'scales': array([], dtype=float32),\n",
       "   'zero_points': array([], dtype=int32),\n",
       "   'quantized_dimension': 0},\n",
       "  'sparsity_parameters': {}}]"
      ]
     },
     "execution_count": 52,
     "metadata": {},
     "output_type": "execute_result"
    }
   ],
   "source": [
    "pred1D(interpreter, line[0:186])"
   ]
  }
 ],
 "metadata": {
  "kernelspec": {
   "display_name": "base",
   "language": "python",
   "name": "python3"
  },
  "language_info": {
   "codemirror_mode": {
    "name": "ipython",
    "version": 3
   },
   "file_extension": ".py",
   "mimetype": "text/x-python",
   "name": "python",
   "nbconvert_exporter": "python",
   "pygments_lexer": "ipython3",
   "version": "3.8.8"
  },
  "orig_nbformat": 4,
  "vscode": {
   "interpreter": {
    "hash": "c1cff50607d090b690574ec349be9bf71cfbdb2bb2404a0072778607bd003c9f"
   }
  }
 },
 "nbformat": 4,
 "nbformat_minor": 2
}
