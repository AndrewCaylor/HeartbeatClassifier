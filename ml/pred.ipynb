{
 "cells": [
  {
   "cell_type": "code",
   "execution_count": 3,
   "metadata": {},
   "outputs": [],
   "source": [
    "import tensorflow as tf\n",
    "import numpy as np\n",
    "\n",
    "# load model\n",
    "f = open(\"model.json\")\n",
    "text = f.read()\n",
    "model = tf.keras.models.model_from_json(text)\n",
    "model.load_weights(\"model.h5\")\n"
   ]
  },
  {
   "cell_type": "code",
   "execution_count": 4,
   "metadata": {},
   "outputs": [
    {
     "name": "stdout",
     "output_type": "stream",
     "text": [
      "1/1 [==============================] - 2s 2s/step\n",
      "[9.1099966e-01 5.5900378e-05 2.0177416e-05 2.7389005e-05 1.6451874e-07]\n"
     ]
    }
   ],
   "source": [
    "\n",
    "\n",
    "# load row of data \n",
    "data = open(\"./dataset/archive/mitbih_test.csv\")\n",
    "\n",
    "# get first row\n",
    "row = data.readline()\n",
    "\n",
    "# print(row)\n",
    "\n",
    "line = row.split(\",\")\n",
    "\n",
    "# convert to numpy float array\n",
    "input = np.array(line[0:186], dtype=np.float32)\n",
    "\n",
    "input = input.reshape(1,186,1)\n",
    "\n",
    "pred = model.predict(input)\n",
    "\n",
    "print(pred[0])"
   ]
  },
  {
   "cell_type": "code",
   "execution_count": null,
   "metadata": {},
   "outputs": [],
   "source": [
    "import boto3\n",
    "\n",
    "response = client.invoke_endpoint(\n",
    "    EndpointName='string',\n",
    "    Body=b'bytes'|file,\n",
    "    ContentType='string',\n",
    "    Accept='string',\n",
    "    CustomAttributes='string',\n",
    "    TargetModel='string',\n",
    "    TargetVariant='string',\n",
    "    TargetContainerHostname='string',\n",
    "    InferenceId='string',\n",
    "    EnableExplanations='string'\n",
    ")\n"
   ]
  }
 ],
 "metadata": {
  "kernelspec": {
   "display_name": "base",
   "language": "python",
   "name": "python3"
  },
  "language_info": {
   "codemirror_mode": {
    "name": "ipython",
    "version": 3
   },
   "file_extension": ".py",
   "mimetype": "text/x-python",
   "name": "python",
   "nbconvert_exporter": "python",
   "pygments_lexer": "ipython3",
   "version": "3.8.8 (default, Apr 13 2021, 19:58:26) \n[GCC 7.3.0]"
  },
  "orig_nbformat": 4,
  "vscode": {
   "interpreter": {
    "hash": "c1cff50607d090b690574ec349be9bf71cfbdb2bb2404a0072778607bd003c9f"
   }
  }
 },
 "nbformat": 4,
 "nbformat_minor": 2
}
